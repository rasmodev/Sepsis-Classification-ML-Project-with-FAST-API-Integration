{
 "cells": [
  {
   "cell_type": "markdown",
   "id": "791862f3",
   "metadata": {},
   "source": [
    "# Project Title: \n",
    "\n",
    "Sepsis Classification Machine Learning Project with FastAPI Deployment"
   ]
  },
  {
   "cell_type": "markdown",
   "id": "f8abeb73",
   "metadata": {},
   "source": [
    "# Business Understanding"
   ]
  },
  {
   "cell_type": "markdown",
   "id": "452947b6",
   "metadata": {},
   "source": [
    "## 1. Introduction\n",
    "This project focuses on the early detection and classification of sepsis, a life-threatening medical condition. Sepsis is a critical concern in healthcare, and early diagnosis can significantly improve patient outcomes. The objective is to build a robust machine learning model for sepsis classification and deploy it into a web application using FastAPI, making it accessible for real-time predictions.\n",
    "\n",
    "### 1.1. Objectives\n",
    "- Understand the Data: \n",
    "The primary objective of this project is to gain a comprehensive understanding of the patient data, which includes various health-related features, demographics, and the presence or absence of sepsis. This understanding will empower healthcare professionals and decision-makers to make informed decisions regarding patient care and intervention.\n",
    "\n",
    "- Predict Sepsis: \n",
    "Develop an accurate machine learning classification model that can predict the likelihood of a patient developing sepsis based on the provided features. Early and accurate sepsis prediction is crucial for timely medical intervention and improving patient outcomes.\n",
    "\n",
    "- Web Application Integration: \n",
    "Integrate the trained sepsis classification model into a web application using FAST API. This web application will serve as a practical tool for healthcare practitioners to input patient data and receive real-time sepsis risk predictions, aiding in clinical decision-making.\n",
    "\n",
    "### 1.2. Methodology\n",
    "To achieve the project objectives, we will follow a structured approach:\n",
    "\n",
    "- Data Loading and Exploration: \n",
    "Begin by loading and exploring the patient data, including features like age, vital signs, and medical history. This step will provide initial insights into the dataset and identify any data quality issues.\n",
    "\n",
    "- Data Preprocessing: \n",
    "Handle missing values, perform feature engineering, and encode categorical variables as needed. Preprocessing steps will ensure that the data is ready for training the machine learning model.\n",
    "\n",
    "- Model Development: \n",
    "Select and implement a suitable machine learning classification model for sepsis prediction. This model will be trained on historical patient data to learn patterns indicative of sepsis.\n",
    "\n",
    "- Model Evaluation: \n",
    "Assess the model's performance using appropriate evaluation metrics such as accuracy, precision, recall, F1-score, and ROC-AUC. Rigorous evaluation will help identify the model's effectiveness in predicting sepsis cases.\n",
    "\n",
    "- FAST API Integration: \n",
    "Integrate the trained machine learning model into a FAST API-based web application. This application will provide a user-friendly interface for healthcare professionals to input patient data and obtain sepsis risk predictions.\n",
    "\n",
    "- Testing and Validation: \n",
    "Conduct thorough testing and validation of the web application to ensure its reliability and accuracy in real-time sepsis risk assessment.\n",
    "\n",
    "- Documentation: \n",
    "Provide detailed documentation on how to use the web application, including input requirements and interpretation of results.\n",
    "\n",
    "By following this methodology, we aim to provide healthcare professionals with a valuable tool for early sepsis detection and decision support, ultimately contributing to improved patient care and outcomes."
   ]
  },
  {
   "cell_type": "markdown",
   "id": "74cf3c2c",
   "metadata": {},
   "source": [
    "# Setup"
   ]
  },
  {
   "cell_type": "markdown",
   "id": "b96112e6",
   "metadata": {},
   "source": [
    "## Installations"
   ]
  },
  {
   "cell_type": "code",
   "execution_count": null,
   "id": "df8df0ad",
   "metadata": {},
   "outputs": [],
   "source": []
  },
  {
   "cell_type": "markdown",
   "id": "4f7567ae",
   "metadata": {},
   "source": [
    "## Importation of Relevant Libraries"
   ]
  },
  {
   "cell_type": "code",
   "execution_count": 9,
   "id": "830b3a68",
   "metadata": {},
   "outputs": [],
   "source": [
    "import pandas as pd\n",
    "import numpy as np\n",
    "import matplotlib.pyplot as plt\n",
    "import seaborn as sns"
   ]
  },
  {
   "cell_type": "markdown",
   "id": "26b53d56",
   "metadata": {},
   "source": [
    "## Data Loading"
   ]
  },
  {
   "cell_type": "markdown",
   "id": "25620357",
   "metadata": {},
   "source": [
    "### Loading the Train and Test Datasets"
   ]
  },
  {
   "cell_type": "markdown",
   "id": "4a0f349c",
   "metadata": {},
   "source": [
    "#### Train Dataset"
   ]
  },
  {
   "cell_type": "code",
   "execution_count": 14,
   "id": "9fafb345",
   "metadata": {},
   "outputs": [
    {
     "data": {
      "text/html": [
       "<div>\n",
       "<style scoped>\n",
       "    .dataframe tbody tr th:only-of-type {\n",
       "        vertical-align: middle;\n",
       "    }\n",
       "\n",
       "    .dataframe tbody tr th {\n",
       "        vertical-align: top;\n",
       "    }\n",
       "\n",
       "    .dataframe thead th {\n",
       "        text-align: right;\n",
       "    }\n",
       "</style>\n",
       "<table border=\"1\" class=\"dataframe\">\n",
       "  <thead>\n",
       "    <tr style=\"text-align: right;\">\n",
       "      <th></th>\n",
       "      <th>ID</th>\n",
       "      <th>PRG</th>\n",
       "      <th>PL</th>\n",
       "      <th>PR</th>\n",
       "      <th>SK</th>\n",
       "      <th>TS</th>\n",
       "      <th>M11</th>\n",
       "      <th>BD2</th>\n",
       "      <th>Age</th>\n",
       "      <th>Insurance</th>\n",
       "      <th>Sepssis</th>\n",
       "    </tr>\n",
       "  </thead>\n",
       "  <tbody>\n",
       "    <tr>\n",
       "      <th>0</th>\n",
       "      <td>ICU200010</td>\n",
       "      <td>6</td>\n",
       "      <td>148</td>\n",
       "      <td>72</td>\n",
       "      <td>35</td>\n",
       "      <td>0</td>\n",
       "      <td>33.6</td>\n",
       "      <td>0.627</td>\n",
       "      <td>50</td>\n",
       "      <td>0</td>\n",
       "      <td>Positive</td>\n",
       "    </tr>\n",
       "    <tr>\n",
       "      <th>1</th>\n",
       "      <td>ICU200011</td>\n",
       "      <td>1</td>\n",
       "      <td>85</td>\n",
       "      <td>66</td>\n",
       "      <td>29</td>\n",
       "      <td>0</td>\n",
       "      <td>26.6</td>\n",
       "      <td>0.351</td>\n",
       "      <td>31</td>\n",
       "      <td>0</td>\n",
       "      <td>Negative</td>\n",
       "    </tr>\n",
       "    <tr>\n",
       "      <th>2</th>\n",
       "      <td>ICU200012</td>\n",
       "      <td>8</td>\n",
       "      <td>183</td>\n",
       "      <td>64</td>\n",
       "      <td>0</td>\n",
       "      <td>0</td>\n",
       "      <td>23.3</td>\n",
       "      <td>0.672</td>\n",
       "      <td>32</td>\n",
       "      <td>1</td>\n",
       "      <td>Positive</td>\n",
       "    </tr>\n",
       "    <tr>\n",
       "      <th>3</th>\n",
       "      <td>ICU200013</td>\n",
       "      <td>1</td>\n",
       "      <td>89</td>\n",
       "      <td>66</td>\n",
       "      <td>23</td>\n",
       "      <td>94</td>\n",
       "      <td>28.1</td>\n",
       "      <td>0.167</td>\n",
       "      <td>21</td>\n",
       "      <td>1</td>\n",
       "      <td>Negative</td>\n",
       "    </tr>\n",
       "    <tr>\n",
       "      <th>4</th>\n",
       "      <td>ICU200014</td>\n",
       "      <td>0</td>\n",
       "      <td>137</td>\n",
       "      <td>40</td>\n",
       "      <td>35</td>\n",
       "      <td>168</td>\n",
       "      <td>43.1</td>\n",
       "      <td>2.288</td>\n",
       "      <td>33</td>\n",
       "      <td>1</td>\n",
       "      <td>Positive</td>\n",
       "    </tr>\n",
       "  </tbody>\n",
       "</table>\n",
       "</div>"
      ],
      "text/plain": [
       "          ID  PRG   PL  PR  SK   TS   M11    BD2  Age  Insurance   Sepssis\n",
       "0  ICU200010    6  148  72  35    0  33.6  0.627   50          0  Positive\n",
       "1  ICU200011    1   85  66  29    0  26.6  0.351   31          0  Negative\n",
       "2  ICU200012    8  183  64   0    0  23.3  0.672   32          1  Positive\n",
       "3  ICU200013    1   89  66  23   94  28.1  0.167   21          1  Negative\n",
       "4  ICU200014    0  137  40  35  168  43.1  2.288   33          1  Positive"
      ]
     },
     "execution_count": 14,
     "metadata": {},
     "output_type": "execute_result"
    }
   ],
   "source": [
    "# Load The Train Dataset\n",
    "train_df = pd.read_csv(\"data/Paitients_Files_Train.csv\")\n",
    "train_df.head()"
   ]
  },
  {
   "cell_type": "markdown",
   "id": "d3f10563",
   "metadata": {},
   "source": [
    "#### Test Dataset"
   ]
  },
  {
   "cell_type": "code",
   "execution_count": 15,
   "id": "77526c81",
   "metadata": {
    "scrolled": true
   },
   "outputs": [
    {
     "data": {
      "text/html": [
       "<div>\n",
       "<style scoped>\n",
       "    .dataframe tbody tr th:only-of-type {\n",
       "        vertical-align: middle;\n",
       "    }\n",
       "\n",
       "    .dataframe tbody tr th {\n",
       "        vertical-align: top;\n",
       "    }\n",
       "\n",
       "    .dataframe thead th {\n",
       "        text-align: right;\n",
       "    }\n",
       "</style>\n",
       "<table border=\"1\" class=\"dataframe\">\n",
       "  <thead>\n",
       "    <tr style=\"text-align: right;\">\n",
       "      <th></th>\n",
       "      <th>ID</th>\n",
       "      <th>PRG</th>\n",
       "      <th>PL</th>\n",
       "      <th>PR</th>\n",
       "      <th>SK</th>\n",
       "      <th>TS</th>\n",
       "      <th>M11</th>\n",
       "      <th>BD2</th>\n",
       "      <th>Age</th>\n",
       "      <th>Insurance</th>\n",
       "    </tr>\n",
       "  </thead>\n",
       "  <tbody>\n",
       "    <tr>\n",
       "      <th>0</th>\n",
       "      <td>ICU200609</td>\n",
       "      <td>1</td>\n",
       "      <td>109</td>\n",
       "      <td>38</td>\n",
       "      <td>18</td>\n",
       "      <td>120</td>\n",
       "      <td>23.1</td>\n",
       "      <td>0.407</td>\n",
       "      <td>26</td>\n",
       "      <td>1</td>\n",
       "    </tr>\n",
       "    <tr>\n",
       "      <th>1</th>\n",
       "      <td>ICU200610</td>\n",
       "      <td>1</td>\n",
       "      <td>108</td>\n",
       "      <td>88</td>\n",
       "      <td>19</td>\n",
       "      <td>0</td>\n",
       "      <td>27.1</td>\n",
       "      <td>0.400</td>\n",
       "      <td>24</td>\n",
       "      <td>1</td>\n",
       "    </tr>\n",
       "    <tr>\n",
       "      <th>2</th>\n",
       "      <td>ICU200611</td>\n",
       "      <td>6</td>\n",
       "      <td>96</td>\n",
       "      <td>0</td>\n",
       "      <td>0</td>\n",
       "      <td>0</td>\n",
       "      <td>23.7</td>\n",
       "      <td>0.190</td>\n",
       "      <td>28</td>\n",
       "      <td>1</td>\n",
       "    </tr>\n",
       "    <tr>\n",
       "      <th>3</th>\n",
       "      <td>ICU200612</td>\n",
       "      <td>1</td>\n",
       "      <td>124</td>\n",
       "      <td>74</td>\n",
       "      <td>36</td>\n",
       "      <td>0</td>\n",
       "      <td>27.8</td>\n",
       "      <td>0.100</td>\n",
       "      <td>30</td>\n",
       "      <td>1</td>\n",
       "    </tr>\n",
       "    <tr>\n",
       "      <th>4</th>\n",
       "      <td>ICU200613</td>\n",
       "      <td>7</td>\n",
       "      <td>150</td>\n",
       "      <td>78</td>\n",
       "      <td>29</td>\n",
       "      <td>126</td>\n",
       "      <td>35.2</td>\n",
       "      <td>0.692</td>\n",
       "      <td>54</td>\n",
       "      <td>0</td>\n",
       "    </tr>\n",
       "  </tbody>\n",
       "</table>\n",
       "</div>"
      ],
      "text/plain": [
       "          ID  PRG   PL  PR  SK   TS   M11    BD2  Age  Insurance\n",
       "0  ICU200609    1  109  38  18  120  23.1  0.407   26          1\n",
       "1  ICU200610    1  108  88  19    0  27.1  0.400   24          1\n",
       "2  ICU200611    6   96   0   0    0  23.7  0.190   28          1\n",
       "3  ICU200612    1  124  74  36    0  27.8  0.100   30          1\n",
       "4  ICU200613    7  150  78  29  126  35.2  0.692   54          0"
      ]
     },
     "execution_count": 15,
     "metadata": {},
     "output_type": "execute_result"
    }
   ],
   "source": [
    "# Load The Test Dataset\n",
    "test_df = pd.read_csv(\"data/Paitients_Files_Test.csv\")\n",
    "test_df.head()"
   ]
  },
  {
   "cell_type": "markdown",
   "id": "3846971b",
   "metadata": {},
   "source": [
    "Columns Description (Common to Both Datasets):\n",
    "\n",
    "- ID: A unique identifier for each patient.\n",
    "- PRG: Number of pregnancies (applicable only to females).\n",
    "- PL: Plasma glucose concentration.\n",
    "- PR: Diastolic blood pressure.\n",
    "- SK: Triceps skinfold thickness.\n",
    "- TS: 2-hour serum insulin.\n",
    "- M11: Body mass index (BMI).\n",
    "- BD2: Diabetes pedigree function.\n",
    "- Age: Age of the patient.\n",
    "- Insurance: Whether the patient has insurance coverage (1 for Yes, 0 for No).\n",
    "Sepsis (Only in Test Dataset): The target variable indicating the presence or absence of sepsis (Positive for presence, Negative for absence)."
   ]
  },
  {
   "cell_type": "markdown",
   "id": "14ab2538",
   "metadata": {},
   "source": [
    "Both datasets contain patient-related information, with the test dataset having an additional \"Sepsis\" column for target classification. The  dataset is designed for model training, while the test dataset will be used for model evaluation."
   ]
  },
  {
   "cell_type": "markdown",
   "id": "5db07b24",
   "metadata": {},
   "source": []
  },
  {
   "cell_type": "markdown",
   "id": "7aa4c9f9",
   "metadata": {},
   "source": [
    "# Exploratory Data Analysis (EDA)"
   ]
  },
  {
   "cell_type": "markdown",
   "id": "0f40a62e",
   "metadata": {},
   "source": [
    "## Understanding the datasets"
   ]
  },
  {
   "cell_type": "markdown",
   "id": "be3bb948",
   "metadata": {},
   "source": [
    "An in-depth exploration of the datasets is presented to gain insights into the available variables,their distributions and relationships. This step will provide an initial undertanding of the datasets to identify any data quality issues that will inform the cleaning and pre-processing."
   ]
  },
  {
   "cell_type": "markdown",
   "id": "07964bc4",
   "metadata": {},
   "source": [
    "### i. Column Information of The Datasets"
   ]
  },
  {
   "cell_type": "code",
   "execution_count": 18,
   "id": "dc0f6a0e",
   "metadata": {},
   "outputs": [
    {
     "name": "stdout",
     "output_type": "stream",
     "text": [
      "<class 'pandas.core.frame.DataFrame'>\n",
      "RangeIndex: 169 entries, 0 to 168\n",
      "Data columns (total 10 columns):\n",
      " #   Column     Non-Null Count  Dtype  \n",
      "---  ------     --------------  -----  \n",
      " 0   ID         169 non-null    object \n",
      " 1   PRG        169 non-null    int64  \n",
      " 2   PL         169 non-null    int64  \n",
      " 3   PR         169 non-null    int64  \n",
      " 4   SK         169 non-null    int64  \n",
      " 5   TS         169 non-null    int64  \n",
      " 6   M11        169 non-null    float64\n",
      " 7   BD2        169 non-null    float64\n",
      " 8   Age        169 non-null    int64  \n",
      " 9   Insurance  169 non-null    int64  \n",
      "dtypes: float64(2), int64(7), object(1)\n",
      "memory usage: 13.3+ KB\n"
     ]
    }
   ],
   "source": [
    "# Column information of the test dataset\n",
    "test_df.info()"
   ]
  },
  {
   "cell_type": "markdown",
   "id": "03580b8b",
   "metadata": {},
   "source": [
    "- There are a total of 599 entries (rows) and 11 columns, each with a specific data type.\n",
    "- The 'ID' column serves as a unique identifier for each patient. \n",
    "- The 'Sepssis' column contains categorical data (object) and represents the target variable indicating the presence or absence of sepsis.\n",
    "- The remaining columns (PRG, PL, PR, SK, TS, M11, BD2, Age, and Insurance) contain numerical data."
   ]
  },
  {
   "cell_type": "code",
   "execution_count": 19,
   "id": "e8dd9a18",
   "metadata": {},
   "outputs": [
    {
     "name": "stdout",
     "output_type": "stream",
     "text": [
      "<class 'pandas.core.frame.DataFrame'>\n",
      "RangeIndex: 169 entries, 0 to 168\n",
      "Data columns (total 10 columns):\n",
      " #   Column     Non-Null Count  Dtype  \n",
      "---  ------     --------------  -----  \n",
      " 0   ID         169 non-null    object \n",
      " 1   PRG        169 non-null    int64  \n",
      " 2   PL         169 non-null    int64  \n",
      " 3   PR         169 non-null    int64  \n",
      " 4   SK         169 non-null    int64  \n",
      " 5   TS         169 non-null    int64  \n",
      " 6   M11        169 non-null    float64\n",
      " 7   BD2        169 non-null    float64\n",
      " 8   Age        169 non-null    int64  \n",
      " 9   Insurance  169 non-null    int64  \n",
      "dtypes: float64(2), int64(7), object(1)\n",
      "memory usage: 13.3+ KB\n"
     ]
    }
   ],
   "source": [
    "# Column information of the test dataset\n",
    "test_df.info()"
   ]
  },
  {
   "cell_type": "markdown",
   "id": "fa36628f",
   "metadata": {},
   "source": [
    "- There are a total of 169 entries (rows) and 10 columns, each with a specific data type.\n",
    "- Similar to the Train dataset, the 'ID' column serves as a unique identifier for each patient.\n",
    "- Unlike the Train dataset, the Test dataset does not include the 'Sepssis' column, as it is intended for evaluating sepsis predictions and doesn't contain the target variable."
   ]
  },
  {
   "cell_type": "markdown",
   "id": "dc38a5ca",
   "metadata": {},
   "source": [
    "### ii. Shape of The Datasets"
   ]
  },
  {
   "cell_type": "code",
   "execution_count": 22,
   "id": "525131bf",
   "metadata": {},
   "outputs": [
    {
     "data": {
      "text/plain": [
       "(599, 11)"
      ]
     },
     "execution_count": 22,
     "metadata": {},
     "output_type": "execute_result"
    }
   ],
   "source": [
    "# The shape of the train dataset\n",
    "train_df.shape"
   ]
  },
  {
   "cell_type": "code",
   "execution_count": 23,
   "id": "652e254c",
   "metadata": {},
   "outputs": [
    {
     "data": {
      "text/plain": [
       "(169, 10)"
      ]
     },
     "execution_count": 23,
     "metadata": {},
     "output_type": "execute_result"
    }
   ],
   "source": [
    "# The shape of the train dataset\n",
    "test_df.shape"
   ]
  },
  {
   "cell_type": "markdown",
   "id": "fac3a6a5",
   "metadata": {},
   "source": [
    "### iii. Summary Statistics Datasets"
   ]
  },
  {
   "cell_type": "code",
   "execution_count": 32,
   "id": "4a60e435",
   "metadata": {},
   "outputs": [
    {
     "data": {
      "text/html": [
       "<div>\n",
       "<style scoped>\n",
       "    .dataframe tbody tr th:only-of-type {\n",
       "        vertical-align: middle;\n",
       "    }\n",
       "\n",
       "    .dataframe tbody tr th {\n",
       "        vertical-align: top;\n",
       "    }\n",
       "\n",
       "    .dataframe thead th {\n",
       "        text-align: right;\n",
       "    }\n",
       "</style>\n",
       "<table border=\"1\" class=\"dataframe\">\n",
       "  <thead>\n",
       "    <tr style=\"text-align: right;\">\n",
       "      <th></th>\n",
       "      <th>PRG</th>\n",
       "      <th>PL</th>\n",
       "      <th>PR</th>\n",
       "      <th>SK</th>\n",
       "      <th>TS</th>\n",
       "      <th>M11</th>\n",
       "      <th>BD2</th>\n",
       "      <th>Age</th>\n",
       "      <th>Insurance</th>\n",
       "    </tr>\n",
       "  </thead>\n",
       "  <tbody>\n",
       "    <tr>\n",
       "      <th>count</th>\n",
       "      <td>599.000</td>\n",
       "      <td>599.000</td>\n",
       "      <td>599.000</td>\n",
       "      <td>599.000</td>\n",
       "      <td>599.000</td>\n",
       "      <td>599.000</td>\n",
       "      <td>599.000</td>\n",
       "      <td>599.000</td>\n",
       "      <td>599.000</td>\n",
       "    </tr>\n",
       "    <tr>\n",
       "      <th>mean</th>\n",
       "      <td>3.825</td>\n",
       "      <td>120.154</td>\n",
       "      <td>68.733</td>\n",
       "      <td>20.563</td>\n",
       "      <td>79.461</td>\n",
       "      <td>31.920</td>\n",
       "      <td>0.481</td>\n",
       "      <td>33.290</td>\n",
       "      <td>0.686</td>\n",
       "    </tr>\n",
       "    <tr>\n",
       "      <th>std</th>\n",
       "      <td>3.363</td>\n",
       "      <td>32.682</td>\n",
       "      <td>19.336</td>\n",
       "      <td>16.018</td>\n",
       "      <td>116.576</td>\n",
       "      <td>8.008</td>\n",
       "      <td>0.338</td>\n",
       "      <td>11.828</td>\n",
       "      <td>0.464</td>\n",
       "    </tr>\n",
       "    <tr>\n",
       "      <th>min</th>\n",
       "      <td>0.000</td>\n",
       "      <td>0.000</td>\n",
       "      <td>0.000</td>\n",
       "      <td>0.000</td>\n",
       "      <td>0.000</td>\n",
       "      <td>0.000</td>\n",
       "      <td>0.078</td>\n",
       "      <td>21.000</td>\n",
       "      <td>0.000</td>\n",
       "    </tr>\n",
       "    <tr>\n",
       "      <th>25%</th>\n",
       "      <td>1.000</td>\n",
       "      <td>99.000</td>\n",
       "      <td>64.000</td>\n",
       "      <td>0.000</td>\n",
       "      <td>0.000</td>\n",
       "      <td>27.100</td>\n",
       "      <td>0.248</td>\n",
       "      <td>24.000</td>\n",
       "      <td>0.000</td>\n",
       "    </tr>\n",
       "    <tr>\n",
       "      <th>50%</th>\n",
       "      <td>3.000</td>\n",
       "      <td>116.000</td>\n",
       "      <td>70.000</td>\n",
       "      <td>23.000</td>\n",
       "      <td>36.000</td>\n",
       "      <td>32.000</td>\n",
       "      <td>0.383</td>\n",
       "      <td>29.000</td>\n",
       "      <td>1.000</td>\n",
       "    </tr>\n",
       "    <tr>\n",
       "      <th>75%</th>\n",
       "      <td>6.000</td>\n",
       "      <td>140.000</td>\n",
       "      <td>80.000</td>\n",
       "      <td>32.000</td>\n",
       "      <td>123.500</td>\n",
       "      <td>36.550</td>\n",
       "      <td>0.647</td>\n",
       "      <td>40.000</td>\n",
       "      <td>1.000</td>\n",
       "    </tr>\n",
       "    <tr>\n",
       "      <th>max</th>\n",
       "      <td>17.000</td>\n",
       "      <td>198.000</td>\n",
       "      <td>122.000</td>\n",
       "      <td>99.000</td>\n",
       "      <td>846.000</td>\n",
       "      <td>67.100</td>\n",
       "      <td>2.420</td>\n",
       "      <td>81.000</td>\n",
       "      <td>1.000</td>\n",
       "    </tr>\n",
       "  </tbody>\n",
       "</table>\n",
       "</div>"
      ],
      "text/plain": [
       "           PRG       PL       PR       SK       TS      M11      BD2      Age  \\\n",
       "count  599.000  599.000  599.000  599.000  599.000  599.000  599.000  599.000   \n",
       "mean     3.825  120.154   68.733   20.563   79.461   31.920    0.481   33.290   \n",
       "std      3.363   32.682   19.336   16.018  116.576    8.008    0.338   11.828   \n",
       "min      0.000    0.000    0.000    0.000    0.000    0.000    0.078   21.000   \n",
       "25%      1.000   99.000   64.000    0.000    0.000   27.100    0.248   24.000   \n",
       "50%      3.000  116.000   70.000   23.000   36.000   32.000    0.383   29.000   \n",
       "75%      6.000  140.000   80.000   32.000  123.500   36.550    0.647   40.000   \n",
       "max     17.000  198.000  122.000   99.000  846.000   67.100    2.420   81.000   \n",
       "\n",
       "       Insurance  \n",
       "count    599.000  \n",
       "mean       0.686  \n",
       "std        0.464  \n",
       "min        0.000  \n",
       "25%        0.000  \n",
       "50%        1.000  \n",
       "75%        1.000  \n",
       "max        1.000  "
      ]
     },
     "execution_count": 32,
     "metadata": {},
     "output_type": "execute_result"
    }
   ],
   "source": [
    "# Summary Statistics of The Train Dataset\n",
    "train_df.describe().round(3)"
   ]
  },
  {
   "cell_type": "code",
   "execution_count": 33,
   "id": "c7a579d2",
   "metadata": {},
   "outputs": [
    {
     "data": {
      "text/html": [
       "<div>\n",
       "<style scoped>\n",
       "    .dataframe tbody tr th:only-of-type {\n",
       "        vertical-align: middle;\n",
       "    }\n",
       "\n",
       "    .dataframe tbody tr th {\n",
       "        vertical-align: top;\n",
       "    }\n",
       "\n",
       "    .dataframe thead th {\n",
       "        text-align: right;\n",
       "    }\n",
       "</style>\n",
       "<table border=\"1\" class=\"dataframe\">\n",
       "  <thead>\n",
       "    <tr style=\"text-align: right;\">\n",
       "      <th></th>\n",
       "      <th>PRG</th>\n",
       "      <th>PL</th>\n",
       "      <th>PR</th>\n",
       "      <th>SK</th>\n",
       "      <th>TS</th>\n",
       "      <th>M11</th>\n",
       "      <th>BD2</th>\n",
       "      <th>Age</th>\n",
       "      <th>Insurance</th>\n",
       "    </tr>\n",
       "  </thead>\n",
       "  <tbody>\n",
       "    <tr>\n",
       "      <th>count</th>\n",
       "      <td>169.000</td>\n",
       "      <td>169.000</td>\n",
       "      <td>169.000</td>\n",
       "      <td>169.000</td>\n",
       "      <td>169.000</td>\n",
       "      <td>169.000</td>\n",
       "      <td>169.000</td>\n",
       "      <td>169.000</td>\n",
       "      <td>169.000</td>\n",
       "    </tr>\n",
       "    <tr>\n",
       "      <th>mean</th>\n",
       "      <td>3.917</td>\n",
       "      <td>123.521</td>\n",
       "      <td>70.426</td>\n",
       "      <td>20.444</td>\n",
       "      <td>81.000</td>\n",
       "      <td>32.250</td>\n",
       "      <td>0.439</td>\n",
       "      <td>33.065</td>\n",
       "      <td>0.728</td>\n",
       "    </tr>\n",
       "    <tr>\n",
       "      <th>std</th>\n",
       "      <td>3.402</td>\n",
       "      <td>29.259</td>\n",
       "      <td>19.427</td>\n",
       "      <td>15.765</td>\n",
       "      <td>110.721</td>\n",
       "      <td>7.445</td>\n",
       "      <td>0.307</td>\n",
       "      <td>11.548</td>\n",
       "      <td>0.446</td>\n",
       "    </tr>\n",
       "    <tr>\n",
       "      <th>min</th>\n",
       "      <td>0.000</td>\n",
       "      <td>56.000</td>\n",
       "      <td>0.000</td>\n",
       "      <td>0.000</td>\n",
       "      <td>0.000</td>\n",
       "      <td>0.000</td>\n",
       "      <td>0.100</td>\n",
       "      <td>21.000</td>\n",
       "      <td>0.000</td>\n",
       "    </tr>\n",
       "    <tr>\n",
       "      <th>25%</th>\n",
       "      <td>1.000</td>\n",
       "      <td>102.000</td>\n",
       "      <td>62.000</td>\n",
       "      <td>0.000</td>\n",
       "      <td>0.000</td>\n",
       "      <td>27.600</td>\n",
       "      <td>0.223</td>\n",
       "      <td>24.000</td>\n",
       "      <td>0.000</td>\n",
       "    </tr>\n",
       "    <tr>\n",
       "      <th>50%</th>\n",
       "      <td>3.000</td>\n",
       "      <td>120.000</td>\n",
       "      <td>74.000</td>\n",
       "      <td>23.000</td>\n",
       "      <td>0.000</td>\n",
       "      <td>32.400</td>\n",
       "      <td>0.343</td>\n",
       "      <td>28.000</td>\n",
       "      <td>1.000</td>\n",
       "    </tr>\n",
       "    <tr>\n",
       "      <th>75%</th>\n",
       "      <td>6.000</td>\n",
       "      <td>141.000</td>\n",
       "      <td>80.000</td>\n",
       "      <td>32.000</td>\n",
       "      <td>135.000</td>\n",
       "      <td>36.600</td>\n",
       "      <td>0.587</td>\n",
       "      <td>42.000</td>\n",
       "      <td>1.000</td>\n",
       "    </tr>\n",
       "    <tr>\n",
       "      <th>max</th>\n",
       "      <td>13.000</td>\n",
       "      <td>199.000</td>\n",
       "      <td>114.000</td>\n",
       "      <td>49.000</td>\n",
       "      <td>540.000</td>\n",
       "      <td>57.300</td>\n",
       "      <td>1.698</td>\n",
       "      <td>70.000</td>\n",
       "      <td>1.000</td>\n",
       "    </tr>\n",
       "  </tbody>\n",
       "</table>\n",
       "</div>"
      ],
      "text/plain": [
       "           PRG       PL       PR       SK       TS      M11      BD2      Age  \\\n",
       "count  169.000  169.000  169.000  169.000  169.000  169.000  169.000  169.000   \n",
       "mean     3.917  123.521   70.426   20.444   81.000   32.250    0.439   33.065   \n",
       "std      3.402   29.259   19.427   15.765  110.721    7.445    0.307   11.548   \n",
       "min      0.000   56.000    0.000    0.000    0.000    0.000    0.100   21.000   \n",
       "25%      1.000  102.000   62.000    0.000    0.000   27.600    0.223   24.000   \n",
       "50%      3.000  120.000   74.000   23.000    0.000   32.400    0.343   28.000   \n",
       "75%      6.000  141.000   80.000   32.000  135.000   36.600    0.587   42.000   \n",
       "max     13.000  199.000  114.000   49.000  540.000   57.300    1.698   70.000   \n",
       "\n",
       "       Insurance  \n",
       "count    169.000  \n",
       "mean       0.728  \n",
       "std        0.446  \n",
       "min        0.000  \n",
       "25%        0.000  \n",
       "50%        1.000  \n",
       "75%        1.000  \n",
       "max        1.000  "
      ]
     },
     "execution_count": 33,
     "metadata": {},
     "output_type": "execute_result"
    }
   ],
   "source": [
    "# Summary Statistics of The Test\n",
    "test_df.describe().round(3)"
   ]
  },
  {
   "cell_type": "markdown",
   "id": "7b9c3205",
   "metadata": {},
   "source": [
    "i. PRG (Number of Pregnancies):\n",
    "- The average number of pregnancies is approximately 3.92, suggesting that, on average, patients have had several pregnancies.\n",
    "- The range of values varies from 0 (no pregnancies) to a maximum of 13 pregnancies.\n",
    "- Similar to the Train dataset, the majority of patients fall within the range of 1 to 6 pregnancies.\n",
    "\n",
    "ii. PL (Plasma Glucose Concentration):\n",
    "- The mean plasma glucose concentration is around 123.52 mg/dL.\n",
    "- The values range from a minimum of 56 mg/dL to a maximum of 199 mg/dL.\n",
    "- Similar to the Train dataset, the standard deviation of 29.26 indicates some variability in glucose levels among patients.\n",
    "\n",
    "iii. PR (Diastolic Blood Pressure):\n",
    "- The mean diastolic blood pressure is approximately 70.43 mm Hg.\n",
    "- The values range from a minimum of 0 mm Hg (which seems unusual) to a maximum of 114 mm Hg.\n",
    "- Most patients have diastolic blood pressure levels within the range of 62 to 80 mm Hg.\n",
    "\n",
    "iv. SK (Triceps Skinfold Thickness):\n",
    "- The mean triceps skinfold thickness is around 20.44 mm.\n",
    "- The values range from a minimum of 0 mm (which might indicate missing data) to a maximum of 49 mm.\n",
    "- As in the Train dataset, there is notable variability in skinfold thickness among patients.\n",
    "\n",
    "v. TS (2-Hour Serum Insulin):\n",
    "- The mean 2-hour serum insulin level is approximately 81.00 μU/ml.\n",
    "- The values have a wide range, with a minimum of 0 μU/ml and a maximum of 540 μU/ml.\n",
    "- As in the Train dataset, there is significant variability in insulin levels among patients.\n",
    "\n",
    "vi. M11 (Body Mass Index - BMI):\n",
    "- The mean BMI is approximately 32.25, indicating that, on average, patients have a BMI in the overweight range.\n",
    "- BMI values vary widely, with a minimum of 0.100 (unusually low) and a maximum of 57.30.\n",
    "- The standard deviation of 7.45 suggests substantial variability in BMI among patients.\n",
    "\n",
    "vii. BD2 (Diabetes Pedigree Function):\n",
    "- The mean diabetes pedigree function value is 0.439, reflecting the diabetes history in family members.\n",
    "- Values range from a minimum of 0.100 to a maximum of 1.698.\n",
    "- Similar to the Train dataset, the spread in diabetes pedigree function values indicates varying family histories of diabetes.\n",
    "\n",
    "viii. Age:\n",
    "- The average age of patients is approximately 33.07 years, which is similar to the Train dataset.\n",
    "- Ages range from a minimum of 21 years to a maximum of 70 years.\n",
    "- Most patients fall within the range of 24 to 42 years.\n",
    "\n",
    "ix. Insurance:\n",
    "- About 72.8% of the patients have insurance coverage, based on the mean value, which is slightly higher than in the Train dataset."
   ]
  },
  {
   "cell_type": "markdown",
   "id": "427165c8",
   "metadata": {},
   "source": [
    "### iv. Checking for Missing Values in The Datasets"
   ]
  },
  {
   "cell_type": "code",
   "execution_count": 38,
   "id": "a2607e1d",
   "metadata": {},
   "outputs": [
    {
     "name": "stdout",
     "output_type": "stream",
     "text": [
      "Missing values in the Train dataset:\n",
      "ID           0\n",
      "PRG          0\n",
      "PL           0\n",
      "PR           0\n",
      "SK           0\n",
      "TS           0\n",
      "M11          0\n",
      "BD2          0\n",
      "Age          0\n",
      "Insurance    0\n",
      "Sepssis      0\n",
      "dtype: int64\n",
      "======================================================\n",
      "\n",
      "Missing values in the Test dataset:\n",
      "ID           0\n",
      "PRG          0\n",
      "PL           0\n",
      "PR           0\n",
      "SK           0\n",
      "TS           0\n",
      "M11          0\n",
      "BD2          0\n",
      "Age          0\n",
      "Insurance    0\n",
      "dtype: int64\n",
      "======================================================\n",
      "\n"
     ]
    }
   ],
   "source": [
    "# Check for missing values in the datasets\n",
    "datasets = {'train': train_df, 'test': test_df}\n",
    "\n",
    "def show_missing_values(datasets):\n",
    "    for name, data in datasets.items():\n",
    "        print(f\"Missing values in the {name.capitalize()} dataset:\")\n",
    "        print(data.isnull().sum())\n",
    "        print('===' * 18)\n",
    "        print()\n",
    "\n",
    "show_missing_values(datasets)"
   ]
  },
  {
   "cell_type": "markdown",
   "id": "6407fc08",
   "metadata": {},
   "source": [
    "Both datasets do not have any missing values"
   ]
  },
  {
   "cell_type": "markdown",
   "id": "99ec0993",
   "metadata": {},
   "source": [
    "# Univariate Analysis"
   ]
  },
  {
   "cell_type": "markdown",
   "id": "946d17d7",
   "metadata": {},
   "source": [
    "## i. Univariate Analysis for 'PRG' (Number of Pregnancies)"
   ]
  },
  {
   "cell_type": "code",
   "execution_count": 49,
   "id": "39c2992a",
   "metadata": {},
   "outputs": [
    {
     "data": {
      "image/png": "[encoded data removed]",
      "text/plain": [
       "<Figure size 1000x500 with 1 Axes>"
      ]
     },
     "metadata": {},
     "output_type": "display_data"
    },
    {
     "name": "stdout",
     "output_type": "stream",
     "text": [
      "Summary Statistics for Number of Pregnancies (PRG):\n",
      "count    599.000000\n",
      "mean       3.824708\n",
      "std        3.362839\n",
      "min        0.000000\n",
      "25%        1.000000\n",
      "50%        3.000000\n",
      "75%        6.000000\n",
      "max       17.000000\n",
      "Name: PRG, dtype: float64\n"
     ]
    }
   ],
   "source": [
    "# Extract the 'PRG' column\n",
    "prg_values = train_df['PRG']\n",
    "\n",
    "# Plot a histogram with the viridis color palette\n",
    "plt.figure(figsize=(10, 5))\n",
    "sns.histplot(prg_values, kde=True, color=sns.color_palette('viridis')[0])\n",
    "plt.title('Distribution of Number of Pregnancies (PRG)')\n",
    "plt.xlabel('PRG (Number of Pregnancies)')\n",
    "plt.ylabel('Frequency')\n",
    "plt.show()\n",
    "\n",
    "# Summary statistics\n",
    "print('Summary Statistics for Number of Pregnancies (PRG):')\n",
    "print(prg_values.describe())"
   ]
  },
  {
   "cell_type": "markdown",
   "id": "2d639e86",
   "metadata": {},
   "source": [
    "- The average number of pregnancies is approximately 3.83, suggesting that, on average, patients have had several pregnancies.\n",
    "- The range of values varies from 0 (no pregnancies) to a maximum of 17 pregnancies.\n",
    "- The majority of patients fall within the range of 1 to 6 pregnancies."
   ]
  },
  {
   "cell_type": "markdown",
   "id": "81bdd5d3",
   "metadata": {},
   "source": [
    "## ii. Univariate Analysis for 'PL' (Plasma Glucose Concentration)"
   ]
  },
  {
   "cell_type": "code",
   "execution_count": 50,
   "id": "a2766aac",
   "metadata": {},
   "outputs": [
    {
     "data": {
      "image/png": "[encoded data removed]",
      "text/plain": [
       "<Figure size 1000x500 with 1 Axes>"
      ]
     },
     "metadata": {},
     "output_type": "display_data"
    },
    {
     "name": "stdout",
     "output_type": "stream",
     "text": [
      "Summary Statistics for Plasma Glucose Concentration (PL):\n",
      "count    599.000000\n",
      "mean     120.153589\n",
      "std       32.682364\n",
      "min        0.000000\n",
      "25%       99.000000\n",
      "50%      116.000000\n",
      "75%      140.000000\n",
      "max      198.000000\n",
      "Name: PL, dtype: float64\n"
     ]
    }
   ],
   "source": [
    "# Extract the 'PL' column\n",
    "pl_values = train_df['PL']\n",
    "\n",
    "# Plot a histogram with the viridis color palette\n",
    "plt.figure(figsize=(10, 5))\n",
    "sns.histplot(pl_values, kde=True, color=sns.color_palette('viridis')[0])\n",
    "plt.title('Distribution of Plasma Glucose Concentration (PL)')\n",
    "plt.xlabel('PL (Plasma Glucose Concentration)')\n",
    "plt.ylabel('Frequency')\n",
    "plt.show()\n",
    "\n",
    "# Summary statistics\n",
    "print('Summary Statistics for Plasma Glucose Concentration (PL):')\n",
    "print(pl_values.describe())"
   ]
  },
  {
   "cell_type": "markdown",
   "id": "10235be7",
   "metadata": {},
   "source": [
    "- The mean plasma glucose concentration is around 120.15 mg/dL.\n",
    "- The values range from a minimum of 0 mg/dL (which seems unusual) to a maximum of 198 mg/dL.\n",
    "- The standard deviation of 32.68 indicates some variability in glucose levels among patients."
   ]
  },
  {
   "cell_type": "markdown",
   "id": "5c581b86",
   "metadata": {},
   "source": [
    "## iii. Univariate Analysis for 'PR' (Diastolic Blood Pressure)"
   ]
  },
  {
   "cell_type": "code",
   "execution_count": 52,
   "id": "8e17fe52",
   "metadata": {},
   "outputs": [
    {
     "data": {
      "image/png": "[encoded data removed]",
      "text/plain": [
       "<Figure size 1000x500 with 1 Axes>"
      ]
     },
     "metadata": {},
     "output_type": "display_data"
    },
    {
     "name": "stdout",
     "output_type": "stream",
     "text": [
      "Summary Statistics for Diastolic Blood Pressure (PR):\n",
      "count    599.000000\n",
      "mean      68.732888\n",
      "std       19.335675\n",
      "min        0.000000\n",
      "25%       64.000000\n",
      "50%       70.000000\n",
      "75%       80.000000\n",
      "max      122.000000\n",
      "Name: PR, dtype: float64\n"
     ]
    }
   ],
   "source": [
    "# Extract the 'PR' column\n",
    "pr_values = train_df['PR']\n",
    "\n",
    "# Plot a histogram with the viridis color palette\n",
    "plt.figure(figsize=(10, 5))\n",
    "sns.histplot(pr_values, kde=True, color=sns.color_palette('viridis')[0])\n",
    "plt.title('Distribution of Diastolic Blood Pressure (PR)')\n",
    "plt.xlabel('PR (Diastolic Blood Pressure)')\n",
    "plt.ylabel('Frequency')\n",
    "plt.show()\n",
    "\n",
    "# Summary statistics\n",
    "print('Summary Statistics for Diastolic Blood Pressure (PR):')\n",
    "print(pr_values.describe())"
   ]
  },
  {
   "cell_type": "markdown",
   "id": "e054060e",
   "metadata": {},
   "source": [
    "- The mean diastolic blood pressure is approximately 68.73 mm Hg.\n",
    "- The values range from a minimum of 0 mm Hg (which seems unusual) to a maximum of 122 mm Hg.\n",
    "- Most patients have diastolic blood pressure levels within the range of 64 to 80 mm Hg."
   ]
  },
  {
   "cell_type": "markdown",
   "id": "76a5118d",
   "metadata": {},
   "source": [
    "iii. PR (Diastolic Blood Pressure):\n",
    "\n",
    "- The mean diastolic blood pressure is approximately 68.73 mm Hg.\n",
    "- The values range from a minimum of 0 mm Hg (which seems unusual) to a maximum of 122 mm Hg.\n",
    "- Most patients have diastolic blood pressure levels within the range of 64 to 80 mm Hg.\n",
    "\n",
    "iv. SK (Triceps Skinfold Thickness):\n",
    "\n",
    "- The mean triceps skinfold thickness is around 20.56 mm.\n",
    "- There is a notable spread in skinfold thickness among patients.\n",
    "\n",
    "v. TS (2-Hour Serum Insulin):\n",
    "\n",
    "- The mean 2-hour serum insulin level is approximately 79.46 μU/ml.\n",
    "- The values have a wide range, with a minimum of 0 μU/ml and a maximum of 846 μU/ml.\n",
    "- The standard deviation of 116.58 suggests significant variability in insulin levels.\n",
    "\n",
    "vi. M11 (Body Mass Index - BMI):\n",
    "\n",
    "- The mean BMI is approximately 31.92, indicating that, on average, patients have a BMI in the overweight range.\n",
    "- BMI values vary widely, with a minimum of 0.078 (unusually low) and a maximum of 67.1.\n",
    "- The standard deviation of 8.01 suggests substantial variability in BMI among patients.\n",
    "\n",
    "vii. BD2 (Diabetes Pedigree Function):\n",
    "\n",
    "- The mean diabetes pedigree function value is 0.481, which reflects the diabetes history in family members.\n",
    "- Values range from a minimum of 0.078 to a maximum of 2.42.\n",
    "- The spread in diabetes pedigree function values indicates varying family histories of diabetes.\n",
    "\n",
    "viii. Age:\n",
    "\n",
    "- The average age of patients is approximately 33.29 years.\n",
    "- Ages range from a minimum of 21 years to a maximum of 81 years.\n",
    "- Most patients fall within the range of 24 to 40 years.\n",
    "\n",
    "ix. Insurance:\n",
    "\n",
    "- About 68.6% of the patients have insurance coverage, based on the mean value."
   ]
  }
 ],
 "metadata": {
  "kernelspec": {
   "display_name": "Python 3 (ipykernel)",
   "language": "python",
   "name": "python3"
  },
  "language_info": {
   "codemirror_mode": {
    "name": "ipython",
    "version": 3
   },
   "file_extension": ".py",
   "mimetype": "text/x-python",
   "name": "python",
   "nbconvert_exporter": "python",
   "pygments_lexer": "ipython3",
   "version": "3.9.13"
  }
 },
 "nbformat": 4,
 "nbformat_minor": 5
}
